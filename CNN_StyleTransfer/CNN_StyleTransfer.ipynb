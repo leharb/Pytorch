{
 "cells": [
  {
   "cell_type": "code",
   "execution_count": null,
   "metadata": {},
   "outputs": [],
   "source": [
    "from PIL import Image\n",
    "import matplotlib.pyplot as plt\n",
    "import numpy as np\n",
    "\n",
    "import torch\n",
    "import torch.optim as optim\n",
    "from torchvision import transforms, models\n",
    "from PIL import Image"
   ]
  },
  {
   "cell_type": "code",
   "execution_count": null,
   "metadata": {
    "scrolled": true
   },
   "outputs": [],
   "source": [
    "vgg = models.vgg19(pretrained=True).features\n",
    "\n",
    "# freeze all VGG parameters since we're only optimizing the target image\n",
    "for param in vgg.parameters():\n",
    "    param.requires_grad_(False)"
   ]
  },
  {
   "cell_type": "code",
   "execution_count": null,
   "metadata": {},
   "outputs": [],
   "source": [
    "def load_image(img_path, max_size=400, shape=None):\n",
    "    image = Image.open(img_path).convert('RGB')\n",
    "    \n",
    "    if max(image.size) > max_size:\n",
    "        size = max_size\n",
    "    else:\n",
    "        size = max(image.size)\n",
    "    \n",
    "    if shape is not None:\n",
    "        size = shape\n",
    "    \n",
    "    transform = transforms.Compose([transforms.Resize(size),\n",
    "                                    transforms.ToTensor(),\n",
    "                                    transforms.Normalize((0.485, 0.456, 0.406), \n",
    "                                             (0.229, 0.224, 0.225))])\n",
    "    image = transform(image).unsqueeze(0)\n",
    "    #print(image.shape)\n",
    "    #Comment below if it fails\n",
    "    #image = torch.tensor(image.numpy().transpose(0, 2, 3, 1))\n",
    "    return image"
   ]
  },
  {
   "cell_type": "code",
   "execution_count": null,
   "metadata": {},
   "outputs": [],
   "source": [
    "content = load_image('images/white_dog.jpg')\n",
    "style = load_image('images/painting.jpg', shape=content.shape[-2:])\n",
    "print(content.shape)\n",
    "print(style.shape)"
   ]
  },
  {
   "cell_type": "code",
   "execution_count": null,
   "metadata": {},
   "outputs": [],
   "source": [
    "fig, (ax1, ax2) = plt.subplots(1, 2, figsize=(20, 10))\n",
    "# content and style ims side-by-side\n",
    "ax1.imshow(content.numpy().transpose(0, 2, 3, 1).squeeze())\n",
    "ax2.imshow(style.numpy().transpose(0, 2, 3, 1).squeeze())"
   ]
  },
  {
   "cell_type": "code",
   "execution_count": null,
   "metadata": {},
   "outputs": [],
   "source": [
    "#Print the model structure\n",
    "print(vgg)"
   ]
  },
  {
   "cell_type": "code",
   "execution_count": null,
   "metadata": {},
   "outputs": [],
   "source": [
    "for name, layer in vgg._modules.items():\n",
    "    print(\"Name = {}, Layer = {}\".format(name, layer))"
   ]
  },
  {
   "cell_type": "code",
   "execution_count": null,
   "metadata": {},
   "outputs": [],
   "source": [
    "def get_features(image, model, layers=None):\n",
    "    \n",
    "    if layers is None:\n",
    "        layers = {'0': 'conv1_1',\n",
    "                  '5': 'conv2_1', \n",
    "                  '10': 'conv3_1', \n",
    "                  '19': 'conv4_1',\n",
    "                  '21': 'conv4_2',  ## content representation\n",
    "                  '28': 'conv5_1'}\n",
    "    features = {}\n",
    "    x = image\n",
    "    \n",
    "    for name, layer in vgg._modules.items():\n",
    "        x = layer(x)\n",
    "        \n",
    "        if name in layers:\n",
    "            features[layers[name]] = x\n",
    "    \n",
    "    return features"
   ]
  },
  {
   "cell_type": "code",
   "execution_count": null,
   "metadata": {},
   "outputs": [],
   "source": [
    "t = torch.tensor(np.array([[1, 2, 3], [4, 5, 6]]))\n",
    "print(\"Shape = \",t.shape)\n",
    "print(\"Size = \",t.size())"
   ]
  },
  {
   "cell_type": "code",
   "execution_count": null,
   "metadata": {},
   "outputs": [],
   "source": [
    "def gram_matrix(tensor):\n",
    "    _, d, h, w = tensor.shape\n",
    "    tensor = tensor.view(d, h*w)\n",
    "    gram = torch.mm(tensor, tensor.t())\n",
    "    \n",
    "    return gram"
   ]
  },
  {
   "cell_type": "code",
   "execution_count": null,
   "metadata": {},
   "outputs": [],
   "source": [
    "content_features = get_features(content, vgg)\n",
    "style_features = get_features(style, vgg)\n",
    "\n",
    "style_grams = {}\n",
    "\n",
    "for layer in style_features:\n",
    "    style_grams[layer] = gram_matrix(style_features[layer])"
   ]
  },
  {
   "cell_type": "code",
   "execution_count": null,
   "metadata": {},
   "outputs": [],
   "source": [
    "target = content.clone().requires_grad_(True)"
   ]
  },
  {
   "cell_type": "code",
   "execution_count": null,
   "metadata": {},
   "outputs": [],
   "source": [
    "style_weights = {'conv1_1': 1.,\n",
    "                 'conv2_1': 0.75,\n",
    "                 'conv3_1': 0.2,\n",
    "                 'conv4_1': 0.2,\n",
    "                 'conv5_1': 0.2}\n",
    "\n",
    "content_weight = 1  # alpha\n",
    "style_weight = 1e6  # beta"
   ]
  },
  {
   "cell_type": "code",
   "execution_count": null,
   "metadata": {},
   "outputs": [],
   "source": [
    "print(content_features['conv4_2'].shape)"
   ]
  },
  {
   "cell_type": "code",
   "execution_count": null,
   "metadata": {},
   "outputs": [],
   "source": [
    "steps = 2000\n",
    "optimizer = optim.Adam([target], lr=0.003)\n",
    "show_every = 200\n",
    "\n",
    "for iter in range(steps):\n",
    "    \n",
    "    target_features = get_features(target, vgg)\n",
    "    \n",
    "    #Content Loss\n",
    "    content_loss = torch.mean((content_features['conv4_2'] - target_features['conv4_2'])**2)\n",
    "    \n",
    "    style_loss = 0\n",
    "    for layer in style_weights:\n",
    "        \n",
    "        style_gram = style_grams[layer]\n",
    "        target_gram = gram_matrix(target_features[layer])\n",
    "        _, d, h, w = target_features[layer].shape\n",
    "        \n",
    "        #print(\"Style gram shape = \", style_gram.shape)\n",
    "        #print(\"Target gram shape = \", target_gram.shape)\n",
    "        style_loss += (style_weights[layer]*torch.mean((style_gram - target_gram)**2))/(d*h*w)\n",
    "    \n",
    "    total_loss = content_weight*content_loss + style_weight*style_loss\n",
    "    optimizer.zero_grad()\n",
    "    total_loss.backward()\n",
    "    optimizer.step()\n",
    "    \n",
    "    print(\"Total Loss at Iteration {} = {}\".format(iter, total_loss.item()))\n",
    "    cloned_target = target.clone().detach()\n",
    "    plt.imshow(cloned_target.numpy().transpose(0, 2, 3, 1).squeeze())\n",
    "    plt.show()"
   ]
  },
  {
   "cell_type": "code",
   "execution_count": null,
   "metadata": {},
   "outputs": [],
   "source": []
  }
 ],
 "metadata": {
  "kernelspec": {
   "display_name": "Python 3",
   "language": "python",
   "name": "python3"
  },
  "language_info": {
   "codemirror_mode": {
    "name": "ipython",
    "version": 3
   },
   "file_extension": ".py",
   "mimetype": "text/x-python",
   "name": "python",
   "nbconvert_exporter": "python",
   "pygments_lexer": "ipython3",
   "version": "3.7.3"
  }
 },
 "nbformat": 4,
 "nbformat_minor": 2
}
