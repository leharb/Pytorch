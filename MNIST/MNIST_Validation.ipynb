{
 "cells": [
  {
   "cell_type": "code",
   "execution_count": 1,
   "metadata": {},
   "outputs": [],
   "source": [
    "import torch\n",
    "import numpy as np\n",
    "import helper\n",
    "import matplotlib.pyplot as plt\n",
    "from torchvision import datasets, transforms\n",
    "from torch import nn\n",
    "from torch import optim\n",
    "import helper\n",
    "import torch.nn.functional as F"
   ]
  },
  {
   "cell_type": "code",
   "execution_count": 5,
   "metadata": {},
   "outputs": [],
   "source": [
    "transform = transforms.Compose([transforms.ToTensor(),\n",
    "                               transforms.Normalize((0.5, 0.5, 0.5), (0.5, 0.5, 0.5))])\n",
    "\n",
    "trainset = datasets.MNIST('MNIST_data/', download=True, train=True, transform = transform)\n",
    "trainloader = torch.utils.data.DataLoader(trainset, batch_size=64, shuffle=True)\n",
    "\n",
    "testset = datasets.MNIST('MNIST_data/', download=True, train=False, transform = transform)\n",
    "testloader = torch.utils.data.DataLoader(testset, batch_size=64, shuffle=True)"
   ]
  },
  {
   "cell_type": "code",
   "execution_count": 8,
   "metadata": {},
   "outputs": [],
   "source": [
    "class Classifier(nn.Module):\n",
    "    def __init__(self):\n",
    "        super().__init__()\n",
    "        self.fc1 = nn.Linear(784, 256)\n",
    "        self.fc2 = nn.Linear(256, 128)\n",
    "        self.fc3 = nn.Linear(128, 64)\n",
    "        self.fc4 = nn.Linear(64, 10)\n",
    "        \n",
    "    def forward(self, x):\n",
    "        x = x.view(x.shape[0], -1)\n",
    "        x = F.relu(self.fc1(x))\n",
    "        x = F.relu(self.fc2(x))\n",
    "        x = F.relu(self.fc3(x))\n",
    "        x = F.log_softmax(self.fc4(x), dim=1)\n",
    "        \n",
    "        return x"
   ]
  },
  {
   "cell_type": "code",
   "execution_count": 83,
   "metadata": {},
   "outputs": [
    {
     "name": "stdout",
     "output_type": "stream",
     "text": [
      "---EPOCH 1/5---\n",
      "Train loss =  tensor(1.5350, grad_fn=<DivBackward0>)\n",
      "Validation loss =  tensor(0.6186)\n",
      "Accuracy =  tensor(0.8178)\n",
      "---EPOCH 2/5---\n",
      "Train loss =  tensor(0.4633, grad_fn=<DivBackward0>)\n",
      "Validation loss =  tensor(0.3798)\n",
      "Accuracy =  tensor(0.8867)\n",
      "---EPOCH 3/5---\n",
      "Train loss =  tensor(0.3462, grad_fn=<DivBackward0>)\n",
      "Validation loss =  tensor(0.3205)\n",
      "Accuracy =  tensor(0.9033)\n",
      "---EPOCH 4/5---\n",
      "Train loss =  tensor(0.2982, grad_fn=<DivBackward0>)\n",
      "Validation loss =  tensor(0.2861)\n",
      "Accuracy =  tensor(0.9142)\n",
      "---EPOCH 5/5---\n",
      "Train loss =  tensor(0.2629, grad_fn=<DivBackward0>)\n",
      "Validation loss =  tensor(0.2482)\n",
      "Accuracy =  tensor(0.9284)\n"
     ]
    }
   ],
   "source": [
    "model = Classifier()\n",
    "\n",
    "criterion = nn.NLLLoss()\n",
    "optimizer = optim.SGD(model.parameters(), lr=0.01)\n",
    "\n",
    "epochs = 5\n",
    "train_losses = []\n",
    "validation_losses = []\n",
    "\n",
    "for e in range(epochs):\n",
    "    running_loss = 0\n",
    "    validation_loss = 0\n",
    "    accuracy = 0\n",
    "    \n",
    "    for images, labels in trainloader:\n",
    "        \n",
    "        optimizer.zero_grad()\n",
    "        \n",
    "        #Forward pass\n",
    "        log_ps = model.forward(images)\n",
    "        #Compute loss\n",
    "        loss = criterion(log_ps, labels)\n",
    "        running_loss += loss\n",
    "        #Compute gradient\n",
    "        loss.backward()\n",
    "        #Update weights using gradient\n",
    "        optimizer.step()\n",
    "    \n",
    "    \n",
    "    \n",
    "    with torch.no_grad():\n",
    "        for images, labels in testloader:\n",
    "            log_ps = model.forward(images)\n",
    "            validation_loss += criterion(log_ps, labels)\n",
    "    \n",
    "            ps = torch.exp(log_ps)\n",
    "            top_p, top_class = ps.topk(1, dim=1)\n",
    "            equals = top_class == labels.view(top_class.shape)\n",
    "            accuracy += torch.mean(equals.type(torch.FloatTensor))\n",
    "            \n",
    "    train_losses.append(running_loss/len(trainloader))\n",
    "    validation_losses.append(validation_loss/len(testloader))\n",
    "    print('---EPOCH {}/{}---'.format(e+1, epochs))\n",
    "    print('Train loss = ',running_loss/len(trainloader))\n",
    "    print('Validation loss = ',validation_loss/len(testloader))\n",
    "    print('Accuracy = ', accuracy/len(testloader))\n",
    "            \n",
    "        "
   ]
  },
  {
   "cell_type": "code",
   "execution_count": 61,
   "metadata": {},
   "outputs": [
    {
     "name": "stdout",
     "output_type": "stream",
     "text": [
      "tensor([[6],\n",
      "        [0],\n",
      "        [4],\n",
      "        [9],\n",
      "        [3],\n",
      "        [4],\n",
      "        [1],\n",
      "        [8],\n",
      "        [3],\n",
      "        [7]])\n"
     ]
    }
   ],
   "source": [
    "#Test the predictions of some images\n",
    "images, labels = next(iter(trainloader))\n",
    "ps = model.forward(images)\n",
    "top_p, top_class = ps.topk(1, dim=1)\n",
    "print(top_class[:10,:])"
   ]
  },
  {
   "cell_type": "code",
   "execution_count": 71,
   "metadata": {},
   "outputs": [
    {
     "name": "stdout",
     "output_type": "stream",
     "text": [
      "7\n"
     ]
    },
    {
     "data": {
      "image/png": "[encoded data removed]",
      "text/plain": [
       "<Figure size 432x288 with 1 Axes>"
      ]
     },
     "metadata": {
      "needs_background": "light"
     },
     "output_type": "display_data"
    }
   ],
   "source": [
    "i=9\n",
    "plt.imshow(images[i].numpy().squeeze())\n",
    "print(np.argmax(ps[i].detach().numpy()))"
   ]
  },
  {
   "cell_type": "code",
   "execution_count": 78,
   "metadata": {},
   "outputs": [
    {
     "data": {
      "text/plain": [
       "<matplotlib.legend.Legend at 0x21f90db6390>"
      ]
     },
     "execution_count": 78,
     "metadata": {},
     "output_type": "execute_result"
    },
    {
     "data": {
      "image/png": "[encoded data removed]",
      "text/plain": [
       "<Figure size 432x288 with 1 Axes>"
      ]
     },
     "metadata": {
      "needs_background": "light"
     },
     "output_type": "display_data"
    }
   ],
   "source": [
    "#Plot losses on a graph\n",
    "plt.plot(train_losses, label='Training Loss')\n",
    "plt.plot(validation_losses, label='Validation Loss')\n",
    "plt.legend()"
   ]
  },
  {
   "cell_type": "code",
   "execution_count": null,
   "metadata": {},
   "outputs": [],
   "source": []
  }
 ],
 "metadata": {
  "kernelspec": {
   "display_name": "Python 3",
   "language": "python",
   "name": "python3"
  },
  "language_info": {
   "codemirror_mode": {
    "name": "ipython",
    "version": 3
   },
   "file_extension": ".py",
   "mimetype": "text/x-python",
   "name": "python",
   "nbconvert_exporter": "python",
   "pygments_lexer": "ipython3",
   "version": "3.7.3"
  }
 },
 "nbformat": 4,
 "nbformat_minor": 2
}
